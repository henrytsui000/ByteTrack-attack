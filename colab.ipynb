{
  "cells": [
    {
      "cell_type": "markdown",
      "metadata": {},
      "source": [
        "# Clone github repo"
      ]
    },
    {
      "cell_type": "code",
      "execution_count": null,
      "metadata": {
        "colab": {
          "base_uri": "https://localhost:8080/"
        },
        "id": "Dkq-eF5odm7G",
        "outputId": "3d4a2c4c-8c3b-4909-ff65-f0060c91af05"
      },
      "outputs": [],
      "source": [
        "!git clone https://github.com/DerryHub/ByteTrack-attack\n",
        "%cd ByteTrack-attack"
      ]
    },
    {
      "cell_type": "markdown",
      "metadata": {},
      "source": [
        "# Install dependencies"
      ]
    },
    {
      "cell_type": "code",
      "execution_count": null,
      "metadata": {
        "colab": {
          "base_uri": "https://localhost:8080/"
        },
        "id": "VVdpSGt0edve",
        "outputId": "1276c535-a552-4eb2-c740-354aa074a7ed"
      },
      "outputs": [],
      "source": [
        "!pip3 install -r requirements.txt\n",
        "!python3 setup.py develop\n",
        "!pip3 install cython; pip3 install 'git+https://github.com/cocodataset/cocoapi.git#subdirectory=PythonAPI'\n",
        "!pip3 install cython_bbox"
      ]
    },
    {
      "cell_type": "markdown",
      "metadata": {},
      "source": [
        "# download dataset"
      ]
    },
    {
      "cell_type": "code",
      "execution_count": null,
      "metadata": {
        "colab": {
          "base_uri": "https://localhost:8080/"
        },
        "id": "Z5OdfwELemBc",
        "outputId": "1dbdefd5-af33-4db3-b92f-c43f3db844cb"
      },
      "outputs": [],
      "source": [
        "!gdown \"1Ur4kUco6Z5UUfuiql480KaPI-Vx9hBeK\" -O ./datasets/mot15.zip\n",
        "!gdown \"1GCqdMJN5iwUcXgK5nHxrP2rQf51KenyC\" -O ./datasets/mot17.zip\n",
        "%cd ./datasets\n",
        "!unzip ./mot15.zip\n",
        "!unzip ./mot17.zip\n",
        "!mv MOT15 mot15\n",
        "!mv MOT17 mot17\n",
        "!rm mot15.zip\n",
        "!rm mot17.zip"
      ]
    },
    {
      "cell_type": "markdown",
      "metadata": {},
      "source": [
        "# Transform dataset"
      ]
    },
    {
      "cell_type": "code",
      "execution_count": null,
      "metadata": {
        "colab": {
          "base_uri": "https://localhost:8080/"
        },
        "id": "PJXEgw7p5E1a",
        "outputId": "fbf4450f-37fa-455b-c94b-9f2b3e6d513c"
      },
      "outputs": [],
      "source": [
        "%cd ..\n",
        "%run tools/convert_mot15_to_coco.py\n",
        "%run tools/convert_mot17_to_coco.py"
      ]
    },
    {
      "cell_type": "markdown",
      "metadata": {},
      "source": [
        "# get Weight "
      ]
    },
    {
      "cell_type": "code",
      "execution_count": null,
      "metadata": {
        "colab": {
          "base_uri": "https://localhost:8080/"
        },
        "id": "G_MpPhBQ62wR",
        "outputId": "ff7adea4-73f3-4146-e6e8-6757f0da1041"
      },
      "outputs": [],
      "source": [
        "!gdown \"1P4mY0Yyd3PPTybgZkjMYhFri88nTmJX5\"\n",
        "!mkdir output"
      ]
    },
    {
      "cell_type": "markdown",
      "metadata": {},
      "source": [
        "# Start to Train!"
      ]
    },
    {
      "cell_type": "code",
      "execution_count": null,
      "metadata": {
        "colab": {
          "base_uri": "https://localhost:8080/"
        },
        "id": "CWPfJhua-LXZ",
        "outputId": "c16e41ad-6296-4f8d-c1ab-ae4c3f001f94"
      },
      "outputs": [],
      "source": [
        "!python -m tools.track -f exps/example/mot/yolox_x_mix_det.py -c bytetrack_x_mot17.pth.tar -b 1 -d 1 --fp16 --fuse --img_dir datasets/mot17 --output_dir output"
      ]
    },
    {
      "cell_type": "code",
      "execution_count": null,
      "metadata": {
        "id": "F0KtE7ek-Zli"
      },
      "outputs": [],
      "source": []
    }
  ],
  "metadata": {
    "accelerator": "GPU",
    "colab": {
      "name": "ByteTrack-attack.ipynb",
      "provenance": []
    },
    "kernelspec": {
      "display_name": "Python 3",
      "name": "python3"
    },
    "language_info": {
      "name": "python"
    }
  },
  "nbformat": 4,
  "nbformat_minor": 0
}
